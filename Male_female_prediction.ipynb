{
 "cells": [
  {
   "cell_type": "code",
   "execution_count": 3,
   "id": "addd38e8",
   "metadata": {},
   "outputs": [
    {
     "name": "stdout",
     "output_type": "stream",
     "text": [
      "Enter long_hair :1\n",
      "Enter forehead width_cm :11.1\n",
      "Enter forehead height_cm:6.1\n",
      "Enter nose_wide: 1\n",
      "Enter nose_long: 0\n",
      "Enter lips_thin: 1\n",
      "Enter distance_nose_to_lip_long: 1\n",
      "['Male']\n"
     ]
    }
   ],
   "source": [
    "import numpy as np\n",
    "import pandas as pd \n",
    "import matplotlib.pyplot as plt\n",
    "import pandas as pd\n",
    "from pandas import read_csv\n",
    "from sklearn.metrics import accuracy_score\n",
    "from pandas import to_pickle,read_pickle\n",
    "from sklearn.model_selection import train_test_split\n",
    "\n",
    "df = pd.read_csv(r\"C:\\\\Users\\\\HP\\\\Downloads\\\\archive (3)\\\\gender_classification_v7.csv\")\n",
    "\n",
    "x = df.iloc[:,:-1]\n",
    "y = df['gender']\n",
    "\n",
    "#spliting data set into train_test_split\n",
    "x_train,x_test,y_train,y_test = train_test_split(x,y,test_size=0.30,random_state=1)\n",
    "\n",
    "##fit traing dataset into model decition tree\n",
    "from sklearn.tree import DecisionTreeClassifier  \n",
    "model= DecisionTreeClassifier(criterion='entropy', random_state=0)  \n",
    "model.fit(x_train, y_train)  \n",
    "\n",
    "#predictions\n",
    "predictions = model.predict(x_test)\n",
    "\n",
    "#\n",
    "pd.to_pickle(model,r\"C:\\Users\\HP\\Music\\new_model1.pickle\")\n",
    "model = pd.read_pickle(r\"C:\\Users\\HP\\Music\\new_model1.pickle\")\n",
    "\n",
    "\n",
    "long_hair = float(input(\"Enter long_hair :\"))\n",
    "forehead_width_cm = float(input(\"Enter forehead width_cm :\"))\n",
    "forehead_height_cm = float(input(\"Enter forehead height_cm:\"))\n",
    "nose_wide = float(input(\"Enter nose_wide: \"))\n",
    "nose_long = float(input(\"Enter nose_long: \"))\n",
    "lips_thin = float(input(\"Enter lips_thin: \"))\n",
    "distance_nose_to_lip_long = float(input(\"Enter distance_nose_to_lip_long: \"))\n",
    "result = model.predict([[long_hair,forehead_width_cm,forehead_height_cm,nose_wide,nose_long,lips_thin,distance_nose_to_lip_long]])\n",
    "print(result)"
   ]
  },
  {
   "cell_type": "code",
   "execution_count": 15,
   "id": "734f5575",
   "metadata": {},
   "outputs": [
    {
     "data": {
      "text/plain": [
       "array(['Female', 'Male', 'Female', ..., 'Male', 'Female', 'Male'],\n",
       "      dtype=object)"
      ]
     },
     "execution_count": 15,
     "metadata": {},
     "output_type": "execute_result"
    }
   ],
   "source": []
  },
  {
   "cell_type": "code",
   "execution_count": null,
   "id": "3046310f",
   "metadata": {},
   "outputs": [],
   "source": []
  }
 ],
 "metadata": {
  "kernelspec": {
   "display_name": "Python 3.9.13 ('enjoylogin')",
   "language": "python",
   "name": "python3"
  },
  "language_info": {
   "codemirror_mode": {
    "name": "ipython",
    "version": 3
   },
   "file_extension": ".py",
   "mimetype": "text/x-python",
   "name": "python",
   "nbconvert_exporter": "python",
   "pygments_lexer": "ipython3",
   "version": "3.9.13"
  },
  "vscode": {
   "interpreter": {
    "hash": "6b74c89a4d5d80d23b61c8e80e6a901dc4e37b1528547f729ac268daca5bbc96"
   }
  }
 },
 "nbformat": 4,
 "nbformat_minor": 5
}
